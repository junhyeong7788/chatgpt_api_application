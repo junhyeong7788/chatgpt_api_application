{
 "cells": [
  {
   "cell_type": "code",
   "execution_count": null,
   "metadata": {},
   "outputs": [],
   "source": [
    "import openai"
   ]
  },
  {
   "cell_type": "code",
   "execution_count": null,
   "metadata": {},
   "outputs": [],
   "source": [
    "client = openai.OpenAI(api_key=\"YOUR_API_KEY\")\n",
    "response = client.chat.completions.create(\n",
    "    model=\"gpt-3.5-turbo\",\n",
    "    messages=[\n",
    "        {\"role\":\"user\",\"content\":\"Tell me how to make a pizza\"}]\n",
    ")"
   ]
  },
  {
   "cell_type": "code",
   "execution_count": null,
   "metadata": {},
   "outputs": [],
   "source": [
    "print(response)\n",
    "print(type(response))\n",
    "print(response.choices[0].message.content)"
   ]
  },
  {
   "cell_type": "markdown",
   "metadata": {},
   "source": [
    "Here's a step-by-step guide on how to make a pizza:\n",
    "\n",
    "Ingredients:\n",
    "- Pizza dough (store-bought or homemade)\n",
    "- Pizza sauce\n",
    "- Cheese (mozzarella or your preferred type)\n",
    "- Toppings of your choice (e.g., vegetables, meats, herbs, or spices)\n",
    "- Olive oil\n",
    "- Salt and pepper (optional)\n",
    "\n",
    "Instructions:\n",
    "\n",
    "1. Preheat the oven: Set your oven to the highest temperature possible, usually around 475-500°F (245-260°C). Preheating ensures a crispier crust.\n",
    "\n",
    "2. Prepare the pizza dough: If you're using store-bought dough, follow the package instructions to let it rise properly. If you prefer homemade dough, combine the yeast, warm water, sugar, and olive oil in a bowl. Let it sit for about 5 minutes until it becomes frothy. Gradually add flour and salt while stirring until a soft dough forms. Knead the dough on a floured surface for about 5-7 minutes until smooth and elastic. Place it in a greased bowl and cover it with a damp cloth. Allow it to rise for 1-2 hours until it doubles in size.\n",
    "\n",
    "3. Shape and stretch the dough: Once the dough has risen, punch it down gently to release the air. Divide it into the desired number of pizzas. On a floured surface, roll out each piece of dough into a round shape using a rolling pin or stretch it with your hands. Roll or stretch from the center outward, working your way around to create a thin, even crust. If the dough becomes difficult to stretch, let it rest for a few minutes and then try again.\n",
    "\n",
    "4. Prepare the pizza sauce and toppings: Spread a thin layer of pizza sauce evenly over the pizza dough, leaving a small border around the edges. If desired, season with a pinch of salt and pepper. Sprinkle a generous amount of cheese over the sauce, covering the entire surface. Add your favorite toppings, such as sliced vegetables, cooked meats, herbs, or spices, distributing them evenly.\n",
    "\n",
    "5. Bake the pizza: Transfer the assembled pizza onto a baking sheet or preheated pizza stone. Bake in the preheated oven for about 10-15 minutes or until the crust is golden brown and the cheese has melted and slightly browned. Cooking times may vary, so keep an eye on it.\n",
    "\n",
    "6. Remove and serve: Once baked, remove the pizza from the oven and let it cool for a minute or two. Slice it into wedges or squares using a pizza cutter. Serve hot, and enjoy your homemade pizza.\n",
    "\n",
    "Remember, feel free to experiment with different toppings, cheeses, and sauces to create your perfect pizza. Have fun and enjoy the process!"
   ]
  },
  {
   "cell_type": "code",
   "execution_count": null,
   "metadata": {},
   "outputs": [],
   "source": [
    "print(response.usage) #응답에 사용된 토큰 개수, 프롬프트 토큰 개수, 토탈 개수"
   ]
  },
  {
   "cell_type": "markdown",
   "metadata": {},
   "source": [
    "CompletionUsage(completion_tokens=556, prompt_tokens=14, total_tokens=570)"
   ]
  },
  {
   "cell_type": "code",
   "execution_count": null,
   "metadata": {},
   "outputs": [],
   "source": [
    "total_bill = response.usage.prompt_tokens * 0.00015/1000 + response.usage.completion_tokens * 0.002/1000\n",
    "print(total_bill*1300) #가격 계산"
   ]
  },
  {
   "cell_type": "code",
   "execution_count": null,
   "metadata": {},
   "outputs": [],
   "source": [
    "client = openai.OpenAI(api_key=\"YOUR_API_KEY\")\n",
    "response = client.chat.completions.create(\n",
    "    model=\"gpt-3.5-turbo\",\n",
    "    messages=[\n",
    "        {\"role\":\"system\",\"content\":\"너는 친절하게 답변해주는 비서야\"}, #system이란? 사용자가 입력한 문장을 기반으로 생성된 문장\n",
    "        {\"role\":\"user\",\"content\":\"2020년 월드시리즈 우승은 누가했어?\"}] #user란? 사용자가 입력한 문장\n",
    ")\n",
    "print(response.choices[0].message.content)"
   ]
  },
  {
   "cell_type": "markdown",
   "metadata": {},
   "source": [
    "2020년 월드시리즈 우승은 로스앤젤레스 다저스(Los Angeles Dodgers)가 했어요."
   ]
  },
  {
   "cell_type": "code",
   "execution_count": null,
   "metadata": {},
   "outputs": [],
   "source": [
    "client = openai.OpenAI(api_key=\"YOUR_API_KEY\")\n",
    "response = client.chat.completions.create(\n",
    "    model=\"gpt-3.5-turbo\",\n",
    "    messages=[\n",
    "        {\"role\":\"system\",\"content\":\"you're a chatbot that refuses to answer and says sorry when users ask questions.\"}, #시스템이 사용자의 질문에 대답을 거부하고 죄송하다고 말하는 챗봇\n",
    "        {\"role\":\"user\",\"content\":\"2020년 월드시리즈 우승은 누가했어?\"}]\n",
    ")\n",
    "print(response.choices[0].message.content)"
   ]
  },
  {
   "cell_type": "markdown",
   "metadata": {},
   "source": [
    "I'm sorry, I cannot provide an answer to that question."
   ]
  },
  {
   "cell_type": "code",
   "execution_count": null,
   "metadata": {},
   "outputs": [],
   "source": [
    "client = openai.OpenAI(api_key=\"YOUR_API_KEY\")\n",
    "response = client.chat.completions.create(\n",
    "    model=\"gpt-3.5-turbo\",\n",
    "    messages=[\n",
    "        {\"role\":\"system\",\"content\":\"You are a translator who translates user input.\"}, #번역 임무를 부여해줌\n",
    "        {\"role\":\"user\",\"content\":\"2020년 월드시리즈 우승은 누가했어?\"}]\n",
    ")\n",
    "print(response.choices[0].message.content)"
   ]
  },
  {
   "cell_type": "markdown",
   "metadata": {},
   "source": [
    "Who won the 2020 World Series?"
   ]
  },
  {
   "cell_type": "markdown",
   "metadata": {},
   "source": [
    "## 이전 대화를 포함하여 답변하기"
   ]
  },
  {
   "cell_type": "code",
   "execution_count": null,
   "metadata": {},
   "outputs": [],
   "source": [
    "client = openai.OpenAI(api_key=\"YOUR_API_KEY\")\n",
    "response = client.chat.completions.create(\n",
    "    model=\"gpt-3.5-turbo\",\n",
    "    messages=[\n",
    "        {\"role\":\"user\",\"content\":\"2002년 월드컵에서 가장 화제가 되었던 나라는 어디야?\"}, #이전 질문\n",
    "        {\"role\":\"assistant\",\"content\":\"바로 예상을 뚫고 4강 진출 신화를 일으킨 한국입니다.\"}, #이전 답변\n",
    "        {\"role\":\"user\",\"content\":\"그 나라가 화제가 되었던 이유를 자세하게 설명해줘.\"}] #마지막 질문\n",
    ")\n",
    "print(response.choices[0].message.content)"
   ]
  },
  {
   "cell_type": "markdown",
   "metadata": {},
   "source": [
    "한국이 2002년 월드컵에서 가장 화제가 되었던 이유는 몇 가지가 있습니다. 첫째, 한국이 월드컵 역사상 최초로 4강에 진출한 것이었습니다. 이는 예상치 못한 성적이었기 때문에 세계적인 관심을 받았습니다.\n",
    "\n",
    "둘째, 한국은 홈 토너먼트였기 때문에 열정적인 응원과 열기로 가득한 경기장 분위기가 인상적이었습니다. 한국인들은 무대 위 뿐만 아니라 무대 아래에서도 열정적인 응원을 이어갔고, 이로 인해 득점 시 엄청난 환호성과 함성이 울려퍼지는 장면들이 많았습니다. 이러한 열정적인 응원은 많은 국가들의 관심을 끌었고 한국을 화제로 만들었습니다.\n",
    "\n",
    "셋째, 한국은 강력한 경기력으로 몇몇 강호를 격파했습니다. 16강에서 이탈리아, 8강에서 스페인을 상대로 엄청난 경기력을 보여줬으며, 결국 4강에서 독일에게 패해 4강에서 탈락했지만, 이러한 경기력은 전세계에서 놀라움을 주었습니다.\n",
    "\n",
    "마지막으로, 한국 선수들의 개인적인 업적도 큰 주목을 받았습니다. 이승우, 황선홍, 정현철 등 한국 선수들이 상당한 업적을 이뤄냈는데, 이는 세계 미디어에서도 큰 주목을 받았습니다. 경기 중 선수들의 뛰어난 기량과 팀워크가 매체에서 널리 보도되었으며, 이로 인해 한국 축구에 대한 관심이 크게 증가했습니다.\n",
    "\n",
    "이러한 이유로 한국은 2002년 월드컵에서 가장 화제가 된 나라로 꼽히게 되었습니다."
   ]
  },
  {
   "cell_type": "markdown",
   "metadata": {},
   "source": []
  }
 ],
 "metadata": {
  "language_info": {
   "name": "python"
  }
 },
 "nbformat": 4,
 "nbformat_minor": 2
}
