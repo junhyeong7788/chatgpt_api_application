{
 "cells": [
  {
   "cell_type": "markdown",
   "metadata": {},
   "source": [
    "## 파이썬 가상환경 사용하는 이유\n",
    "\n",
    "- 가상환경은 프로젝트 별로 패키지를 관리하기 위함\n",
    "- 프로젝트별로 안정적인 패키지 버전 관리 가능"
   ]
  },
  {
   "cell_type": "code",
   "execution_count": 1,
   "metadata": {},
   "outputs": [
    {
     "name": "stdout",
     "output_type": "stream",
     "text": [
      "Requirement already satisfied: openai in ./ch01_env/lib/python3.11/site-packages (1.3.7)\n",
      "Requirement already satisfied: anyio<4,>=3.5.0 in ./ch01_env/lib/python3.11/site-packages (from openai) (3.7.1)\n",
      "Requirement already satisfied: distro<2,>=1.7.0 in ./ch01_env/lib/python3.11/site-packages (from openai) (1.8.0)\n",
      "Requirement already satisfied: httpx<1,>=0.23.0 in ./ch01_env/lib/python3.11/site-packages (from openai) (0.25.2)\n",
      "Requirement already satisfied: pydantic<3,>=1.9.0 in ./ch01_env/lib/python3.11/site-packages (from openai) (2.5.2)\n",
      "Requirement already satisfied: sniffio in ./ch01_env/lib/python3.11/site-packages (from openai) (1.3.0)\n",
      "Requirement already satisfied: tqdm>4 in ./ch01_env/lib/python3.11/site-packages (from openai) (4.66.1)\n",
      "Requirement already satisfied: typing-extensions<5,>=4.5 in ./ch01_env/lib/python3.11/site-packages (from openai) (4.8.0)\n",
      "Requirement already satisfied: idna>=2.8 in ./ch01_env/lib/python3.11/site-packages (from anyio<4,>=3.5.0->openai) (3.6)\n",
      "Requirement already satisfied: certifi in ./ch01_env/lib/python3.11/site-packages (from httpx<1,>=0.23.0->openai) (2023.11.17)\n",
      "Requirement already satisfied: httpcore==1.* in ./ch01_env/lib/python3.11/site-packages (from httpx<1,>=0.23.0->openai) (1.0.2)\n",
      "Requirement already satisfied: h11<0.15,>=0.13 in ./ch01_env/lib/python3.11/site-packages (from httpcore==1.*->httpx<1,>=0.23.0->openai) (0.14.0)\n",
      "Requirement already satisfied: annotated-types>=0.4.0 in ./ch01_env/lib/python3.11/site-packages (from pydantic<3,>=1.9.0->openai) (0.6.0)\n",
      "Requirement already satisfied: pydantic-core==2.14.5 in ./ch01_env/lib/python3.11/site-packages (from pydantic<3,>=1.9.0->openai) (2.14.5)\n",
      "Note: you may need to restart the kernel to use updated packages.\n"
     ]
    }
   ],
   "source": [
    "pip install openai"
   ]
  },
  {
   "cell_type": "code",
   "execution_count": 2,
   "metadata": {},
   "outputs": [],
   "source": [
    "import openai"
   ]
  },
  {
   "cell_type": "markdown",
   "metadata": {},
   "source": [
    "사용 모델 : gpt-3.5-turbo"
   ]
  },
  {
   "cell_type": "code",
   "execution_count": 4,
   "metadata": {},
   "outputs": [],
   "source": [
    "client = openai.OpenAI(api_key=\"YOUR_API_KEY\")\n",
    "response = client.chat.completions.create(\n",
    "    model=\"gpt-3.5-turbo\",  #모델\n",
    "    messages=[{\"role\":\"user\",\"content\":\"Tell me how to make a pizza\"}]  #role : user or agent / content : user's message\n",
    ")"
   ]
  },
  {
   "cell_type": "code",
   "execution_count": null,
   "metadata": {},
   "outputs": [],
   "source": [
    "print(response)\n",
    "print(type(response))"
   ]
  },
  {
   "cell_type": "code",
   "execution_count": 6,
   "metadata": {},
   "outputs": [
    {
     "name": "stdout",
     "output_type": "stream",
     "text": [
      "Making a pizza involves several steps. Here's a simplified way to make a homemade pizza:\n",
      "\n",
      "Ingredients:\n",
      "- Pizza dough (store-bought or homemade)\n",
      "- Tomato sauce or pizza sauce\n",
      "- Mozzarella cheese (shredded or sliced)\n",
      "- Toppings of your choice (e.g., pepperoni, mushrooms, bell peppers, onions, olives)\n",
      "- Olive oil\n",
      "- Salt\n",
      "- Italian seasoning (optional)\n",
      "\n",
      "Instructions:\n",
      "\n",
      "1. Preheat your oven to the recommended temperature mentioned on the pizza dough package or as needed for homemade dough.\n",
      "\n",
      "2. Prepare your pizza dough. If using store-bought dough, follow the instructions on the package. If making dough from scratch, combine flour, yeast, water, salt, and olive oil in a mixing bowl. Knead the dough until it becomes smooth and elastic. Let it rise for about an hour or until it doubles in size.\n",
      "\n",
      "3. Once your dough is ready, lightly flour a surface and roll out the dough into your desired pizza size and thickness. You can shape it round, rectangular, or any shape you prefer.\n",
      "\n",
      "4. Place the rolled-out dough onto a pizza stone, baking sheet, or pizza pan that has been lightly greased or lined with parchment paper.\n",
      "\n",
      "5. Brush the surface of the dough lightly with olive oil, which will help prevent it from becoming soggy.\n",
      "\n",
      "6. Spread a thin layer of tomato or pizza sauce evenly over the dough, leaving a small border around the edges.\n",
      "\n",
      "7. Sprinkle a generous amount of shredded or sliced mozzarella cheese on top of the sauce, covering the entire surface.\n",
      "\n",
      "8. Add your desired toppings, such as pepperoni, mushrooms, bell peppers, onions, or olives. Be creative and customize it to your liking.\n",
      "\n",
      "9. If desired, lightly sprinkle some salt and Italian seasoning over the toppings for added flavor.\n",
      "\n",
      "10. Place the pizza in the preheated oven and bake according to the instructions on your dough package or approximately 12-15 minutes, or until the cheese is melted and bubbly, and the crust turns golden brown.\n",
      "\n",
      "11. Once your pizza is done, carefully remove it from the oven and let it cool for a few minutes.\n",
      "\n",
      "12. Slice your pizza into desired portions, serve, and enjoy your homemade pizza!\n",
      "\n",
      "Remember, these instructions are a basic guideline, and you can always adjust and customize the recipe according to your preferences.\n"
     ]
    }
   ],
   "source": [
    "print(response.choices[0].message.content)"
   ]
  },
  {
   "cell_type": "code",
   "execution_count": null,
   "metadata": {},
   "outputs": [],
   "source": []
  }
 ],
 "metadata": {
  "kernelspec": {
   "display_name": "ch01_env",
   "language": "python",
   "name": "python3"
  },
  "language_info": {
   "codemirror_mode": {
    "name": "ipython",
    "version": 3
   },
   "file_extension": ".py",
   "mimetype": "text/x-python",
   "name": "python",
   "nbconvert_exporter": "python",
   "pygments_lexer": "ipython3",
   "version": "3.11.6"
  }
 },
 "nbformat": 4,
 "nbformat_minor": 2
}
